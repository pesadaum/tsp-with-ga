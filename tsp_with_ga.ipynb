{
 "cells": [
  {
   "cell_type": "markdown",
   "metadata": {},
   "source": [
    "## Bibliotecas"
   ]
  },
  {
   "cell_type": "code",
   "execution_count": 91,
   "metadata": {},
   "outputs": [],
   "source": [
    "import numpy as np\n",
    "import matplotlib.pyplot as plt\n",
    "import pandas as pd\n",
    "\n",
    "rc = {\"font.family\": \"serif\",  # fonte serifada\n",
    "      \"mathtext.fontset\": \"cm\",  # texto matemático em LaTeX\n",
    "      \"font.size\": 14,  # Usar tamanho 12 ou 14\n",
    "      \"axes.axisbelow\": True,  # grid abaixo dos dados\n",
    "      \"axes.grid\": False,  # sem grid por padrão\n",
    "\n",
    "      \"text.usetex\": False,  # latex em toda a figura\n",
    "      }\n",
    "\n",
    "%matplotlib inline\n",
    "\n",
    "plt.rcParams.update(rc)\n"
   ]
  },
  {
   "cell_type": "markdown",
   "metadata": {},
   "source": [
    "# GA"
   ]
  },
  {
   "cell_type": "markdown",
   "metadata": {},
   "source": [
    "## O gene\n",
    "\n",
    "O gene de cada indivíduo é uma **cidade**. Em outras palavras são as coordenadas $G = (x,y)$"
   ]
  },
  {
   "cell_type": "markdown",
   "metadata": {},
   "source": [
    "## O indivíduo\n",
    "\n",
    "O indivíduo é uma rota. A rota é a coleção de cidades que partem de uma cidade $C_i$, percorrem todo o caminho até $C_n$ do conjunto de $n$ cidades e retorna para a cidade $C_i$.\n"
   ]
  },
  {
   "cell_type": "markdown",
   "metadata": {},
   "source": [
    "## A população\n",
    "\n",
    "É a coleção de indivíduos. Foge um pouco do escopo desse trabalho estimar o parâmetro da população. Dessa forma, a população vai ser estimada com base em experimentação."
   ]
  },
  {
   "cell_type": "markdown",
   "metadata": {},
   "source": [
    "## Cruzamento\n",
    "\n",
    "O cruzamento é o processo de juntar dois indivíduos, combinar seus atributos e gerar um novo indivíduo. Como os indivíduos pais são indivíduos da população, eles podem ser levados para as próximas gerações."
   ]
  },
  {
   "cell_type": "markdown",
   "metadata": {},
   "source": [
    "## Fitness\n",
    "\n",
    "O fitness é a forma de avaliar o indivíduo/população. No caso do TSP, pode-se utilizar como fitness o inverso da distância percorrida. Assim, quanto maior o fitness, menor é a distância percorrida (por consequência, melhor o resultado), e assim, fica fácil de interpretar os resultados."
   ]
  },
  {
   "cell_type": "markdown",
   "metadata": {},
   "source": [
    "## Mutação\n",
    "\n",
    "Introdução de variabilidade genética nos indivíduos da população. Por hora a mutação vai ter uma taxa arbitrária."
   ]
  },
  {
   "cell_type": "markdown",
   "metadata": {},
   "source": [
    "## Elitismo\n",
    "\n",
    "Forma de selecionar os melhores indivíduos para as próximas gerações."
   ]
  },
  {
   "cell_type": "markdown",
   "metadata": {},
   "source": [
    "## Seleção\n",
    "\n",
    "A seleção (até agora) está sendo feita por roleta. Não é a melhor forma de se implementar mas é a mais fácil"
   ]
  },
  {
   "cell_type": "code",
   "execution_count": 92,
   "metadata": {},
   "outputs": [],
   "source": [
    "class Gene:\n",
    "    def __init__(self, x, y):\n",
    "        self.x = x\n",
    "        self.y = y\n",
    "\n",
    "    def distancia(self, cidade):\n",
    "        return np.sqrt((self.x - cidade.x)**2 + (self.x - cidade.x)**2)\n"
   ]
  },
  {
   "cell_type": "code",
   "execution_count": 93,
   "metadata": {},
   "outputs": [],
   "source": [
    "class Fitness:\n",
    "    def __init__(self, rota):\n",
    "        self.rota = rota\n",
    "        self.distancia = 0\n",
    "        self.fitness = 0.0\n",
    "\n",
    "    def distancia_total(self):\n",
    "        if self.distancia == 0:\n",
    "            distancia_total = 0\n",
    "\n",
    "            # Calcula a distância da primeira cidade até a penúltima\n",
    "            for i in range(len(self.rota) - 1):\n",
    "                origem = self.rota[i]\n",
    "                destino = self.rota[i + 1]\n",
    "                distancia_total += origem.distancia(destino)\n",
    "\n",
    "            # Calcula a distância da última cidade até a primeira\n",
    "            distancia_total += self.rota[-1].distancia(self.rota[0])\n",
    "            self.distancia = distancia_total\n",
    "\n",
    "        return self.distancia\n",
    "\n",
    "    def calcula_fitness(self):\n",
    "        if self.fitness == 0:\n",
    "            self.fitness = 1/(self.distancia_total())\n",
    "\n",
    "        return self.fitness\n"
   ]
  },
  {
   "cell_type": "code",
   "execution_count": 94,
   "metadata": {},
   "outputs": [],
   "source": [
    "# class Individuo(Gene):\n",
    "# def __init__(self):\n",
    "# self.genoma = criar_rota()\n",
    "#     pass\n"
   ]
  },
  {
   "cell_type": "code",
   "execution_count": 95,
   "metadata": {},
   "outputs": [],
   "source": [
    "def criar_rota(lista_cidades):\n",
    "    # TODO renomear pra criar indivíduo?\n",
    "    rota = list(np.random.choice(lista_cidades, len(list(lista_cidades)), replace=False))\n",
    "    rota.append(rota[0]) # A última viagem é da última cidade para a cidade inicial\n",
    "    return rota\n"
   ]
  },
  {
   "cell_type": "code",
   "execution_count": 128,
   "metadata": {},
   "outputs": [
    {
     "data": {
      "text/plain": [
       "[3, 2, 0, 5, 7, 4, 8, 9, 6, 1, 3]"
      ]
     },
     "execution_count": 128,
     "metadata": {},
     "output_type": "execute_result"
    }
   ],
   "source": [
    "l = range(10)\n",
    "\n",
    "r = criar_rota(l)\n",
    "\n",
    "r"
   ]
  },
  {
   "cell_type": "code",
   "execution_count": 96,
   "metadata": {},
   "outputs": [],
   "source": [
    "\n",
    "\n",
    "def populacao_inicial(tam, lista_cidades):\n",
    "    return [criar_rota(lista_cidades) for _ in range(tam)]\n"
   ]
  },
  {
   "cell_type": "code",
   "execution_count": 97,
   "metadata": {},
   "outputs": [],
   "source": [
    "import operator\n",
    "\n",
    "def avalia_populacao(populacao):\n",
    "    fitnessDict = {}\n",
    "    for i in range(0, len(populacao)):\n",
    "        fitnessDict[i] = Fitness(populacao[i]).calcula_fitness()\n",
    "    \n",
    "    # retorna o dicionário com chave e valor do fitness, ordenado pelo maior valor de fitness.\n",
    "    return sorted(fitnessDict.items(), key=operator.itemgetter(1), reverse=True)\n"
   ]
  },
  {
   "cell_type": "code",
   "execution_count": 98,
   "metadata": {},
   "outputs": [],
   "source": [
    "# def selecao(populacao_rankeada, tam_elite):\n",
    "    \n",
    "    \n",
    "#     populacao_rankeada = np.array(populacao_rankeada, dtype=int)\n",
    "    \n",
    "#     tab = pd.DataFrame(populacao_rankeada, columns=[\"Index\", \"Fitness\"])\n",
    "#     tab['cum_sum'] = tab.Fitness.cumsum()\n",
    "#     tab['cum_perc'] = 100*tab.cum_sum/tab.Fitness.sum()\n",
    "\n",
    "#     selecao = []\n",
    "#     # Seleção da elite\n",
    "#     for i in range(0, tam_elite):\n",
    "#         selecao.append(populacao_rankeada[i][0])\n",
    "    \n",
    "#     # Roleta pro resto\n",
    "#     for i in range(0, len(populacao_rankeada) - tam_elite):\n",
    "#         chance = 100*np.random.random()\n",
    "#         for i in range(0, len(populacao_rankeada)):\n",
    "#             if chance <= tab.iat[i, 3]:\n",
    "#                 selecao.append(populacao_rankeada[i][0])\n",
    "#                 break\n",
    "#     return selecao\n"
   ]
  },
  {
   "cell_type": "code",
   "execution_count": 99,
   "metadata": {},
   "outputs": [],
   "source": [
    "import random\n",
    "\n",
    "\n",
    "def selecao(populacao_rankeada, tam_elite):\n",
    "    selecao = []\n",
    "    \n",
    "    # dá pra indexar esse negócio sem pandas mas vove\n",
    "    \n",
    "    df = pd.DataFrame(np.array(populacao_rankeada), columns=[\"Indice\", \"Fitness\"])\n",
    "    \n",
    "    df['fitness_acumulado'] = df['Fitness'].cumsum()\n",
    "    df['fitness_normalizado'] = 100*df['fitness_acumulado']/df['Fitness'].sum()\n",
    "\n",
    "    for i in range(0, tam_elite):\n",
    "        selecao.append(populacao_rankeada[i][0])\n",
    "    for i in range(0, len(populacao_rankeada) - tam_elite):\n",
    "        chance = 100*random.random()\n",
    "        for i in range(0, len(populacao_rankeada)):\n",
    "            if chance <= df.iat[i, 3]:\n",
    "                selecao.append(populacao_rankeada[i][0])\n",
    "                break\n",
    "    return selecao\n"
   ]
  },
  {
   "cell_type": "code",
   "execution_count": 100,
   "metadata": {},
   "outputs": [],
   "source": [
    "def seleciona_pais(populacao, melhor_populacao):\n",
    "    pais = []\n",
    "    for i in range(0, len(melhor_populacao)):\n",
    "        indices = melhor_populacao[i]\n",
    "        pais.append(populacao[indices])\n",
    "    return pais"
   ]
  },
  {
   "cell_type": "code",
   "execution_count": 101,
   "metadata": {},
   "outputs": [],
   "source": [
    "def cruzamento(p1, p2):\n",
    "    '''\n",
    "    copiei esse cruzamento da internet e tá meio merda, além de ser roleta,\n",
    "    ele não instancia o indivíduo \"filho\", só cria uma lista. Tenho que mexer nessa bosta aqui\n",
    "    '''\n",
    "    child = []\n",
    "    childP1 = []\n",
    "    childP2 = []\n",
    "    \n",
    "    geneA = int(np.random.random() * len(p1))\n",
    "    geneB = int(np.random.random() * len(p1))\n",
    "    \n",
    "    startGene = min(geneA, geneB)\n",
    "    endGene = max(geneA, geneB)\n",
    "\n",
    "    for i in range(startGene, endGene):\n",
    "        childP1.append(p1[i])\n",
    "        \n",
    "    # childP2 = [item for item in p2 if item not in childP1]\n",
    "    child = [item for item in p2 if item not in childP1]\n",
    "    child[startGene:startGene] = childP1\n",
    "\n",
    "    # child = childP1 + childP2\n",
    "    return child"
   ]
  },
  {
   "cell_type": "code",
   "execution_count": 102,
   "metadata": {},
   "outputs": [],
   "source": [
    "def cruza_populacao(pais, tam_elite):\n",
    "    filhos = []\n",
    "    tam_cruzamento = len(pais) - tam_elite\n",
    "    populacao = random.sample(pais, len(pais))\n",
    "\n",
    "    for i in range(0,tam_elite):\n",
    "        filhos.append(pais[i])\n",
    "    \n",
    "    for i in range(tam_cruzamento):\n",
    "        child = cruzamento(populacao[i], populacao[len(pais)-i-1])\n",
    "        filhos.append(child)\n",
    "    return filhos"
   ]
  },
  {
   "cell_type": "code",
   "execution_count": 103,
   "metadata": {},
   "outputs": [],
   "source": [
    "def mutacao(individual, mutationRate):\n",
    "    '''\n",
    "    Essa mutação aqui eu também adaptei da internet e tá uma merda, mas tá funcionando\n",
    "    '''\n",
    "    for swapped in range(len(individual)):\n",
    "        if(np.random.random() < mutationRate):\n",
    "            swapWith = int(np.random.random() * len(individual))\n",
    "            \n",
    "            city1 = individual[swapped]\n",
    "            city2 = individual[swapWith]\n",
    "            \n",
    "            individual[swapped] = city2\n",
    "            individual[swapWith] = city1\n",
    "    return individual"
   ]
  },
  {
   "cell_type": "code",
   "execution_count": 104,
   "metadata": {},
   "outputs": [],
   "source": [
    "def muta_populacao(populacao, taxa_mutacao):\n",
    "    populacao_mutada = []\n",
    "    \n",
    "    for i in range(len(populacao)):\n",
    "        mutado = mutacao(populacao[i], taxa_mutacao)\n",
    "        populacao_mutada.append(mutado)\n",
    "    return populacao_mutada"
   ]
  },
  {
   "cell_type": "code",
   "execution_count": 105,
   "metadata": {},
   "outputs": [],
   "source": [
    "def prox_geracao(geracao, tam_elite, taxa_mutacao):\n",
    "    populacao_rankeada = avalia_populacao(geracao)\n",
    "    selecionados = selecao(populacao_rankeada, tam_elite)\n",
    "    pais = seleciona_pais(geracao, selecionados)\n",
    "    filhos = cruza_populacao(pais, tam_elite)\n",
    "    prox_geracao = muta_populacao(filhos, taxa_mutacao)\n",
    "    return prox_geracao"
   ]
  },
  {
   "cell_type": "code",
   "execution_count": 106,
   "metadata": {},
   "outputs": [],
   "source": [
    "def GA(populacao, tam_populacao, tam_elite, taxa_mutacao, n_geracoes, retorna_distancias=False):\n",
    "    pop = populacao_inicial(tam_populacao, populacao)\n",
    "    \n",
    "        \n",
    "    \n",
    "    print(f'Distância inicial: {1 / avalia_populacao(pop)[0][1]}')\n",
    "\n",
    "    distancias = []\n",
    "    for _ in range(n_geracoes):\n",
    "        pop = prox_geracao(pop, tam_elite, taxa_mutacao)\n",
    "        if retorna_distancias:\n",
    "            distancias.append(1 / avalia_populacao(pop)[0][1])\n",
    "\n",
    "    indice_melhor_individuo = avalia_populacao(pop)[0][0]\n",
    "    return pop[indice_melhor_individuo], distancias\n"
   ]
  },
  {
   "cell_type": "markdown",
   "metadata": {},
   "source": [
    "# Visualizando os resultados"
   ]
  },
  {
   "cell_type": "code",
   "execution_count": 107,
   "metadata": {},
   "outputs": [
    {
     "data": {
      "text/html": [
       "<div>\n",
       "<style scoped>\n",
       "    .dataframe tbody tr th:only-of-type {\n",
       "        vertical-align: middle;\n",
       "    }\n",
       "\n",
       "    .dataframe tbody tr th {\n",
       "        vertical-align: top;\n",
       "    }\n",
       "\n",
       "    .dataframe thead th {\n",
       "        text-align: right;\n",
       "    }\n",
       "</style>\n",
       "<table border=\"1\" class=\"dataframe\">\n",
       "  <thead>\n",
       "    <tr style=\"text-align: right;\">\n",
       "      <th></th>\n",
       "      <th>cidade</th>\n",
       "      <th>x</th>\n",
       "      <th>y</th>\n",
       "    </tr>\n",
       "  </thead>\n",
       "  <tbody>\n",
       "    <tr>\n",
       "      <th>0</th>\n",
       "      <td>1</td>\n",
       "      <td>64</td>\n",
       "      <td>96</td>\n",
       "    </tr>\n",
       "    <tr>\n",
       "      <th>1</th>\n",
       "      <td>2</td>\n",
       "      <td>80</td>\n",
       "      <td>39</td>\n",
       "    </tr>\n",
       "    <tr>\n",
       "      <th>2</th>\n",
       "      <td>3</td>\n",
       "      <td>69</td>\n",
       "      <td>23</td>\n",
       "    </tr>\n",
       "    <tr>\n",
       "      <th>3</th>\n",
       "      <td>4</td>\n",
       "      <td>72</td>\n",
       "      <td>42</td>\n",
       "    </tr>\n",
       "    <tr>\n",
       "      <th>4</th>\n",
       "      <td>5</td>\n",
       "      <td>48</td>\n",
       "      <td>67</td>\n",
       "    </tr>\n",
       "    <tr>\n",
       "      <th>...</th>\n",
       "      <td>...</td>\n",
       "      <td>...</td>\n",
       "      <td>...</td>\n",
       "    </tr>\n",
       "    <tr>\n",
       "      <th>65</th>\n",
       "      <td>66</td>\n",
       "      <td>74</td>\n",
       "      <td>67</td>\n",
       "    </tr>\n",
       "    <tr>\n",
       "      <th>66</th>\n",
       "      <td>67</td>\n",
       "      <td>10</td>\n",
       "      <td>68</td>\n",
       "    </tr>\n",
       "    <tr>\n",
       "      <th>67</th>\n",
       "      <td>68</td>\n",
       "      <td>48</td>\n",
       "      <td>19</td>\n",
       "    </tr>\n",
       "    <tr>\n",
       "      <th>68</th>\n",
       "      <td>69</td>\n",
       "      <td>83</td>\n",
       "      <td>86</td>\n",
       "    </tr>\n",
       "    <tr>\n",
       "      <th>69</th>\n",
       "      <td>70</td>\n",
       "      <td>84</td>\n",
       "      <td>94</td>\n",
       "    </tr>\n",
       "  </tbody>\n",
       "</table>\n",
       "<p>70 rows × 3 columns</p>\n",
       "</div>"
      ],
      "text/plain": [
       "    cidade   x   y\n",
       "0        1  64  96\n",
       "1        2  80  39\n",
       "2        3  69  23\n",
       "3        4  72  42\n",
       "4        5  48  67\n",
       "..     ...  ..  ..\n",
       "65      66  74  67\n",
       "66      67  10  68\n",
       "67      68  48  19\n",
       "68      69  83  86\n",
       "69      70  84  94\n",
       "\n",
       "[70 rows x 3 columns]"
      ]
     },
     "execution_count": 107,
     "metadata": {},
     "output_type": "execute_result"
    }
   ],
   "source": [
    "tsp_st70 = pd.read_csv('./data/st70.tsp', sep='\\s', index_col=None,\n",
    "                 header=None, skipfooter=1, skiprows=6, engine='python')\n",
    "\n",
    "tsp_st70.columns = ['cidade', 'x', 'y']\n",
    "\n",
    "tsp_st70"
   ]
  },
  {
   "cell_type": "code",
   "execution_count": 108,
   "metadata": {},
   "outputs": [
    {
     "data": {
      "text/html": [
       "<div>\n",
       "<style scoped>\n",
       "    .dataframe tbody tr th:only-of-type {\n",
       "        vertical-align: middle;\n",
       "    }\n",
       "\n",
       "    .dataframe tbody tr th {\n",
       "        vertical-align: top;\n",
       "    }\n",
       "\n",
       "    .dataframe thead th {\n",
       "        text-align: right;\n",
       "    }\n",
       "</style>\n",
       "<table border=\"1\" class=\"dataframe\">\n",
       "  <thead>\n",
       "    <tr style=\"text-align: right;\">\n",
       "      <th></th>\n",
       "      <th>cidade</th>\n",
       "      <th>x</th>\n",
       "      <th>y</th>\n",
       "    </tr>\n",
       "  </thead>\n",
       "  <tbody>\n",
       "    <tr>\n",
       "      <th>0</th>\n",
       "      <td>1</td>\n",
       "      <td>64</td>\n",
       "      <td>96</td>\n",
       "    </tr>\n",
       "    <tr>\n",
       "      <th>35</th>\n",
       "      <td>36</td>\n",
       "      <td>67</td>\n",
       "      <td>99</td>\n",
       "    </tr>\n",
       "    <tr>\n",
       "      <th>28</th>\n",
       "      <td>29</td>\n",
       "      <td>78</td>\n",
       "      <td>94</td>\n",
       "    </tr>\n",
       "    <tr>\n",
       "      <th>12</th>\n",
       "      <td>13</td>\n",
       "      <td>78</td>\n",
       "      <td>92</td>\n",
       "    </tr>\n",
       "    <tr>\n",
       "      <th>69</th>\n",
       "      <td>70</td>\n",
       "      <td>84</td>\n",
       "      <td>94</td>\n",
       "    </tr>\n",
       "    <tr>\n",
       "      <th>...</th>\n",
       "      <td>...</td>\n",
       "      <td>...</td>\n",
       "      <td>...</td>\n",
       "    </tr>\n",
       "    <tr>\n",
       "      <th>36</th>\n",
       "      <td>37</td>\n",
       "      <td>48</td>\n",
       "      <td>83</td>\n",
       "    </tr>\n",
       "    <tr>\n",
       "      <th>46</th>\n",
       "      <td>47</td>\n",
       "      <td>58</td>\n",
       "      <td>85</td>\n",
       "    </tr>\n",
       "    <tr>\n",
       "      <th>15</th>\n",
       "      <td>16</td>\n",
       "      <td>57</td>\n",
       "      <td>91</td>\n",
       "    </tr>\n",
       "    <tr>\n",
       "      <th>22</th>\n",
       "      <td>23</td>\n",
       "      <td>67</td>\n",
       "      <td>88</td>\n",
       "    </tr>\n",
       "    <tr>\n",
       "      <th>0</th>\n",
       "      <td>1</td>\n",
       "      <td>64</td>\n",
       "      <td>96</td>\n",
       "    </tr>\n",
       "  </tbody>\n",
       "</table>\n",
       "<p>71 rows × 3 columns</p>\n",
       "</div>"
      ],
      "text/plain": [
       "    cidade   x   y\n",
       "0        1  64  96\n",
       "35      36  67  99\n",
       "28      29  78  94\n",
       "12      13  78  92\n",
       "69      70  84  94\n",
       "..     ...  ..  ..\n",
       "36      37  48  83\n",
       "46      47  58  85\n",
       "15      16  57  91\n",
       "22      23  67  88\n",
       "0        1  64  96\n",
       "\n",
       "[71 rows x 3 columns]"
      ]
     },
     "execution_count": 108,
     "metadata": {},
     "output_type": "execute_result"
    }
   ],
   "source": [
    "\n",
    "st70_tour = pd.read_csv('./data/st70.opt.tour', sep='\\s', index_col=None,\n",
    "                  header=None, skipfooter=1, skiprows=5, engine='python')\n",
    "\n",
    "st70_tour.columns = ['cidade']\n",
    "\n",
    "# Troca o valor da última cidade para o valor da primeira\n",
    "st70_tour.iloc[-1, 0] = st70_tour.iloc[0, 0]\n",
    "\n",
    "sol_otima = tsp_st70.loc[st70_tour['cidade'].values - 1, :]\n",
    "\n",
    "sol_otima\n"
   ]
  },
  {
   "cell_type": "code",
   "execution_count": 112,
   "metadata": {},
   "outputs": [],
   "source": [
    "def calcula_distancia_otima(rota_otima):\n",
    "    rota_otima = sol_otima.iloc[:, 1:].to_numpy()\n",
    "\n",
    "    r_x, r_y = list(zip(*rota_otima))\n",
    "\n",
    "    d_otima = 0\n",
    "    for i in range(len(rota_otima) -1):\n",
    "        d_otima += np.sqrt((r_x[i+1] - r_x[i])**2 + (r_y[i+1] - r_y[i])**2)\n",
    "    return d_otima"
   ]
  },
  {
   "cell_type": "code",
   "execution_count": 114,
   "metadata": {},
   "outputs": [
    {
     "data": {
      "text/plain": [
       "678.5974520966245"
      ]
     },
     "execution_count": 114,
     "metadata": {},
     "output_type": "execute_result"
    }
   ],
   "source": [
    "d_o = calcula_distancia_otima(sol_otima)\n",
    "\n",
    "d_o"
   ]
  },
  {
   "cell_type": "code",
   "execution_count": 110,
   "metadata": {},
   "outputs": [
    {
     "name": "stdout",
     "output_type": "stream",
     "text": [
      "Distância inicial: 2678.5204871346423\n"
     ]
    }
   ],
   "source": [
    "if __name__ == '__main__':\n",
    "    cidades = []\n",
    "\n",
    "    for i in range(0, len(tsp_st70)):\n",
    "        cidades.append(Gene(x=tsp_st70.iat[i, 1], y=tsp_st70.iat[i, 2]))\n",
    "    melhor_ind, evolucao = GA(cidades, 20, 5, 0.01, 2500, retorna_distancias=True)\n",
    "\n",
    "    solucao = []\n",
    "    for gene in melhor_ind:\n",
    "        solucao.append((gene.x, gene.y))"
   ]
  },
  {
   "cell_type": "code",
   "execution_count": 120,
   "metadata": {},
   "outputs": [
    {
     "data": {
      "text/plain": [
       "[<matplotlib.lines.Line2D at 0x7f33abe63460>]"
      ]
     },
     "execution_count": 120,
     "metadata": {},
     "output_type": "execute_result"
    },
    {
     "data": {
      "image/png": "[encoded data removed]",
      "text/plain": [
       "<Figure size 432x288 with 1 Axes>"
      ]
     },
     "metadata": {
      "needs_background": "light"
     },
     "output_type": "display_data"
    }
   ],
   "source": [
    "plt.plot(evolucao)"
   ]
  },
  {
   "cell_type": "code",
   "execution_count": 127,
   "metadata": {},
   "outputs": [
    {
     "data": {
      "text/plain": [
       "False"
      ]
     },
     "execution_count": 127,
     "metadata": {},
     "output_type": "execute_result"
    }
   ],
   "source": [
    "len(solucao) == len(st70_tour) # esqueci de fazer a solução voltar pra cidade inicial"
   ]
  },
  {
   "cell_type": "code",
   "execution_count": 111,
   "metadata": {},
   "outputs": [
    {
     "data": {
      "image/png": "[encoded data removed]",
      "text/plain": [
       "<Figure size 1008x648 with 2 Axes>"
      ]
     },
     "metadata": {
      "needs_background": "light"
     },
     "output_type": "display_data"
    }
   ],
   "source": [
    "f, ax = plt.subplots(ncols=2, figsize=(14, 9))\n",
    "\n",
    "ax[0].scatter(tsp_st70['x'], tsp_st70['y'], edgecolors='k', s=100,)\n",
    "\n",
    "ax[0].scatter(sol_otima.iloc[0, 1], sol_otima.iloc[0, 2],\n",
    "              edgecolors='k', c='y', s=150, label='Cidade inicial')\n",
    "ax[0].scatter(sol_otima.iloc[1, 1], sol_otima.iloc[1, 2], c='r',\n",
    "              s=200, label='Cidade seguinte', marker='x')\n",
    "ax[0].plot(sol_otima['x'], sol_otima['y'], '--', c='k', label='Caminho ótimo')\n",
    "\n",
    "sol_x, sol_y = list(zip(*solucao))\n",
    "\n",
    "ax[1].scatter(tsp_st70['x'], tsp_st70['y'], edgecolors='k', s=100, c='C1')\n",
    "ax[1].scatter(sol_x[0], sol_y[0],\n",
    "              edgecolors='k', c='y', s=150, label='Cidade inicial')\n",
    "ax[1].scatter(sol_x[1], sol_y[1], c='r', s=200, marker='x', label='Cidade seguinte')\n",
    "\n",
    "ax[1].plot(sol_x, sol_y, '--', c='k', alpha=0.6)\n",
    "\n",
    "for a in ax.flat:\n",
    "    a.set(\n",
    "        xticklabels=[],\n",
    "        yticklabels=[],\n",
    "    )\n",
    "    a.legend(loc='lower left', ncol=2)\n",
    "    a.axis('off')\n",
    "    a.set_aspect('equal')"
   ]
  },
  {
   "cell_type": "code",
   "execution_count": null,
   "metadata": {},
   "outputs": [],
   "source": []
  }
 ],
 "metadata": {
  "interpreter": {
   "hash": "916dbcbb3f70747c44a77c7bcd40155683ae19c65e1c03b4aa3499c5328201f1"
  },
  "kernelspec": {
   "display_name": "Python 3.10.4 64-bit",
   "language": "python",
   "name": "python3"
  },
  "language_info": {
   "codemirror_mode": {
    "name": "ipython",
    "version": 3
   },
   "file_extension": ".py",
   "mimetype": "text/x-python",
   "name": "python",
   "nbconvert_exporter": "python",
   "pygments_lexer": "ipython3",
   "version": "3.10.4"
  },
  "orig_nbformat": 4
 },
 "nbformat": 4,
 "nbformat_minor": 2
}
